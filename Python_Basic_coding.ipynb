{
 "cells": [
  {
   "cell_type": "code",
   "execution_count": 6,
   "metadata": {},
   "outputs": [
    {
     "name": "stdout",
     "output_type": "stream",
     "text": [
      "Enter the no. of elements in list: 3\n",
      "Enter element12\n",
      "Enter element456\n",
      "Enter element900000\n",
      "The word with the longest length is: \n",
      "900000\n"
     ]
    }
   ],
   "source": [
    "#1)Python program to find the number with longest length.\n",
    "a = []\n",
    "n = int(input(\"Enter the no. of elements in list: \"))\n",
    "for x in range(0,n):\n",
    "    element=input(\"Enter element\")\n",
    "    a.append(element)\n",
    "max1 = len(a[0])\n",
    "temp = a[0]\n",
    "for i in a:\n",
    "    if(len(i) > max1):  \n",
    "        max1 = len(i)\n",
    "        temp = i\n",
    "print(\"The word with the longest length is: \")\n",
    "print(temp)"
   ]
  },
  {
   "cell_type": "code",
   "execution_count": 7,
   "metadata": {},
   "outputs": [
    {
     "name": "stdout",
     "output_type": "stream",
     "text": [
      "\n",
      "*\n",
      "**\n",
      "***\n",
      "****\n",
      "*****\n",
      "******\n",
      "*******\n",
      "******\n",
      "*****\n",
      "****\n",
      "***\n",
      "**\n",
      "*\n"
     ]
    }
   ],
   "source": [
    "#2)Python program to draw the pattern\n",
    "n=7\n",
    "for i in range(0,n):\n",
    "    print('*'*i)\n",
    "    if i==(n-1):\n",
    "        for i in range(n,0,-1):\n",
    "            print('*'*i)"
   ]
  },
  {
   "cell_type": "code",
   "execution_count": 16,
   "metadata": {},
   "outputs": [
    {
     "name": "stdout",
     "output_type": "stream",
     "text": [
      "1234 : <class 'int'>\n",
      "33.33 : <class 'float'>\n",
      "(1+2j) : <class 'complex'>\n",
      "priti : <class 'str'>\n",
      "True : <class 'bool'>\n",
      "(0, -1) : <class 'tuple'>\n",
      "[5, 12] : <class 'list'>\n",
      "{'class': 'v', 'grade': 'a'} : <class 'dict'>\n"
     ]
    }
   ],
   "source": [
    "#3)Python program to print each element and find its type from a list\n",
    "\n",
    "L = [1234, 33.33, 1+2j, 'priti', True,(0,-1),[5,12],{'class':'v','grade':'a'}]\n",
    "\n",
    "for i in L:\n",
    "     print(i, ':',type(i))\n",
    "        "
   ]
  },
  {
   "cell_type": "code",
   "execution_count": 12,
   "metadata": {},
   "outputs": [
    {
     "name": "stdout",
     "output_type": "stream",
     "text": [
      "{'a': 400, 'b': 400, 'c': 300, 'd': 400}\n"
     ]
    }
   ],
   "source": [
    "#4)Python program to add matching keys in dictionary\n",
    "\n",
    "x = {'a':100,'b':200,'c':300}\n",
    "y = {'a':300,'b':200, 'd':400}\n",
    "z = {}\n",
    "k = list(y)\n",
    "for key in x:\n",
    "    if key in y:\n",
    "        z[key] = x[key]+y[key] #add matching keys of dict x and dict y\n",
    "        k.remove(key)       #remove the key from list y if its added into new dict z\n",
    "    else:\n",
    "        z[key] = x[key]     #if there is no match found, append it to new dict z as it is.\n",
    "        for i in k:\n",
    "            z[i] = y[i]\n",
    "print(z)\n"
   ]
  },
  {
   "cell_type": "code",
   "execution_count": 18,
   "metadata": {},
   "outputs": [
    {
     "name": "stdout",
     "output_type": "stream",
     "text": [
      "[(10, 20, 100), (40, 50, 100), (70, 80, 100)]\n"
     ]
    }
   ],
   "source": [
    "#5)Python program to replace last element of each tuple in a list with 100\n",
    "\n",
    "L = [(10,20,30),(40,50,60),(70,80,90)]\n",
    "L_new = []     #declaring empty list\n",
    "for i in L:\n",
    "    t = list(i)  #converting tuple into list type\n",
    "    t[-1] = 100  #replacing last element of list into value 100 \n",
    "    L_new.append(tuple(t))\n",
    "print(L_new)\n",
    "    "
   ]
  },
  {
   "cell_type": "code",
   "execution_count": 22,
   "metadata": {},
   "outputs": [
    {
     "name": "stdout",
     "output_type": "stream",
     "text": [
      "resta$t\n"
     ]
    }
   ],
   "source": [
    "#6)Python program to replace letter 'r' with '$' \n",
    "# input : restart, output : resta$t\n",
    "\n",
    "def my_fun(x):\n",
    "    a = x[0]\n",
    "    b = x.replace(a,'$')  #search for letter 'r' from second location as we don't want to replace first letter 'r'\n",
    "    c = a+b[1:len(b)]   \n",
    "    return c\n",
    "\n",
    "print(my_fun('restart'))"
   ]
  },
  {
   "cell_type": "code",
   "execution_count": 25,
   "metadata": {},
   "outputs": [
    {
     "name": "stdout",
     "output_type": "stream",
     "text": [
      "the value 50 is found at position 4\n"
     ]
    }
   ],
   "source": [
    "#7)Python program for binary search function to search value in a list\n",
    "\n",
    "def bin_search(L,M):\n",
    "    for i,j in enumerate(L):\n",
    "        if j == M:\n",
    "            return i,j\n",
    "        else:\n",
    "            if i == (len(L)-1):\n",
    "                return 'NA',M\n",
    "            \n",
    "L = [10,20,30,40,50]\n",
    "m,n = bin_search(L,50)\n",
    "\n",
    "if m == 'NA':\n",
    "    print(f'this list has no value as {n}')\n",
    "else:\n",
    "    print(f'the value {n} is found at position {m}')\n"
   ]
  },
  {
   "cell_type": "code",
   "execution_count": 62,
   "metadata": {},
   "outputs": [
    {
     "name": "stdout",
     "output_type": "stream",
     "text": [
      "[2, 1, 5, 3, 4] \n",
      " [9, 6, 8, 10, 7]\n"
     ]
    },
    {
     "data": {
      "text/plain": [
       "{2: 9, 1: 6, 5: 8, 3: 10, 4: 7}"
      ]
     },
     "execution_count": 62,
     "metadata": {},
     "output_type": "execute_result"
    }
   ],
   "source": [
    "#8)Python program to combine 2 lists and create a dictionary\n",
    "\n",
    "import random\n",
    "from random import shuffle\n",
    "L1 = [1,2,3,4,5]\n",
    "L2 = [6,7,8,9,10]\n",
    "random.shuffle(L1)  #shuffle values of list l1\n",
    "random.shuffle(L2)   #shuffle values of list L2\n",
    "print(L1, '\\n', L2)\n",
    "{i:j for i,j in zip(L1,L2)}  # zipping 2 list as keys and values to a dictionary\n"
   ]
  },
  {
   "cell_type": "code",
   "execution_count": 69,
   "metadata": {},
   "outputs": [
    {
     "name": "stdout",
     "output_type": "stream",
     "text": [
      "[[ 1  2  3]\n",
      " [ 4  5  6]\n",
      " [ 7  8 20]]\n",
      "11\n"
     ]
    }
   ],
   "source": [
    "#9)Python program to find the difference between sum of 2 diagonal values\n",
    "import numpy as np\n",
    "def mat(a):\n",
    "    b = np.asarray(a)\n",
    "    c = np.trace(b)  #gives sum of diagonal\n",
    "    d = np.fliplr(b)  \n",
    "    e = np.trace(d)  #gives sum of another diagonal\n",
    "    f = c-e\n",
    "    return f\n",
    "    \n",
    "a = np.array([[1,2,3],[4,5,6],[7,8,20]])\n",
    "print(a)\n",
    "print(mat(a)) \n"
   ]
  },
  {
   "cell_type": "code",
   "execution_count": 72,
   "metadata": {},
   "outputs": [
    {
     "name": "stdout",
     "output_type": "stream",
     "text": [
      "1\n",
      "1\n",
      "2\n",
      "3\n",
      "5\n",
      "8\n",
      "13\n",
      "21\n",
      "34\n",
      "55\n"
     ]
    }
   ],
   "source": [
    "#10) Python program to find fibbonacci number using yeild\n",
    "\n",
    "def fibn(n):\n",
    "    n1 = 0\n",
    "    n2 = 1\n",
    "    if n == 0: \n",
    "        return 'print a valid integer'\n",
    "    elif n == 1:\n",
    "        return 0\n",
    "    elif n == 2:\n",
    "        return n1,n2\n",
    "    else:\n",
    "        for i in range(n):\n",
    "            temp = n1+n2 #adding n1 and n2\n",
    "            n1 = n2  #updating n1 with n2 value\n",
    "            n2 = temp #updating n2 with temp(that's sum of last 2 numbers)\n",
    "\n",
    "            yield(n1) #yield is generator object,it will generatw the value only when we iterate it.\n",
    "            \n",
    "for i in fibn(10):\n",
    "    print(i)\n",
    "\n",
    "            \n"
   ]
  },
  {
   "cell_type": "code",
   "execution_count": 75,
   "metadata": {},
   "outputs": [
    {
     "name": "stdout",
     "output_type": "stream",
     "text": [
      "Hi user1, Please enter your input:rock\n",
      "Hi user2, Please enter your input:scissor\n",
      "Congratulations! user1 has won\n",
      "Do you want to play a new game? press 1 to continue: 0\n"
     ]
    }
   ],
   "source": [
    "#11)Python program to create rock paper scissor game\n",
    "\n",
    "def rps():\n",
    "    res=1\n",
    "    while res==1:\n",
    "        user1=input('Hi user1, Please enter your input:')\n",
    "        user2=input('Hi user2, Please enter your input:')\n",
    "        \n",
    "        if user1=='rock'and user2=='scissor' or user1=='scissor' and user2=='paper' or user1=='paper' and user2=='rock':\n",
    "            print('Congratulations! user1 has won')\n",
    "        elif user1==user2:\n",
    "            print('It is a tie')\n",
    "        elif user2=='rock'and user1=='scissor' or user2=='scissor' and user1=='paper' or user2=='paper' and user1=='rock':\n",
    "            print('Congratulations! user2 has won')\n",
    "        else:\n",
    "            print('Input is invalid. Please enter any one of the following: rock, scissor, paper')\n",
    "        res=int(input('Do you want to play a new game? press 1 to continue: ')) \n",
    "rps()\n"
   ]
  },
  {
   "cell_type": "code",
   "execution_count": 77,
   "metadata": {},
   "outputs": [
    {
     "name": "stdout",
     "output_type": "stream",
     "text": [
      "[80, 10, 20, 30]\n"
     ]
    }
   ],
   "source": [
    "#12)Python program to combine 2 lists of different lengths and print only common numbers in the results and there should not be any duplicates\n",
    "\n",
    "L1 = [10,30,40,30,20,60,80,20,10]\n",
    "L2 = [80,70,50,20,30,70,10]\n",
    "\n",
    "y = list(set(L1) & set(L2)) # it will take common values from both the lists and remove duplicates if any\n",
    "print(y)"
   ]
  },
  {
   "cell_type": "code",
   "execution_count": 79,
   "metadata": {},
   "outputs": [
    {
     "name": "stdout",
     "output_type": "stream",
     "text": [
      "eobilm\n"
     ]
    }
   ],
   "source": [
    "#13) input: mobile, expected output: eobilm\n",
    "x = 'mobile'\n",
    "y = x[-1]+x[1:(len(x)-1)]+x[0]\n",
    "print(y)"
   ]
  },
  {
   "cell_type": "code",
   "execution_count": 80,
   "metadata": {},
   "outputs": [
    {
     "name": "stdout",
     "output_type": "stream",
     "text": [
      "6dB@8%Kb\n"
     ]
    }
   ],
   "source": [
    "#14)Python program for password generator\n",
    "\n",
    "import random\n",
    "password=''\n",
    "small='abcdefghijklmnopqrstuvwxyz'\n",
    "caps='ABCDEFGHIJKLMNOPQRSTUVWXYZ'\n",
    "spl='!@#$%&'\n",
    "num='0123456789'\n",
    "a=random.sample(small,2)\n",
    "b=random.sample(caps,2)\n",
    "c=random.sample(num,2)\n",
    "d=random.sample(spl,2)\n",
    "e=list(a+b+c+d)\n",
    "random.shuffle(e)\n",
    "print(''.join(e))\n"
   ]
  },
  {
   "cell_type": "code",
   "execution_count": 82,
   "metadata": {},
   "outputs": [
    {
     "name": "stdout",
     "output_type": "stream",
     "text": [
      "Hi user!, imagine a number. computer will guess that\n",
      "And computers first guess is : \n",
      "[5]\n",
      "please say if the number is correct? no\n",
      "[33]\n",
      "please say if the number is correct? no\n",
      "[3]\n",
      "please say if the number is correct? yes\n",
      "wow!! computer has guessed it in  3 attempts\n"
     ]
    }
   ],
   "source": [
    "#15)Python program to create game of guessing a number.. \n",
    "#This game works as below. Initially program save users all favorite numbers in a list and \n",
    "# once the user pick a number in mind, program will try to guess that and says in how many attempts it has been guessed right.\n",
    "\n",
    "import random\n",
    "print('Hi user!, imagine a number. computer will guess that')\n",
    "print('And computers first guess is : ')\n",
    "ans = 'no'\n",
    "count = 0\n",
    "L = [0]\n",
    "fav = [3,5,35,55,33,53]\n",
    "while ans != 'yes':\n",
    "    a = random.sample(fav,1)\n",
    "    for i in L:\n",
    "        if i == a:\n",
    "            break\n",
    "    else:\n",
    "        L.append(a)\n",
    "        print(a)\n",
    "        ans = input('please say if the number is correct? ')\n",
    "        count += 1\n",
    "        if ans == 'no':\n",
    "            pass\n",
    "        else:\n",
    "            print('WOW!! computer has guessed it in ',count,'attempts')\n"
   ]
  },
  {
   "cell_type": "code",
   "execution_count": 83,
   "metadata": {},
   "outputs": [
    {
     "name": "stdout",
     "output_type": "stream",
     "text": [
      "sun=0, mon=1, tue=2, wed=3, thu=4, fri=5, sat=6\n",
      "choose a day: 5\n",
      "enter vacation mode: 1\n",
      "alaram clock ('5', True) -> 10:00\n"
     ]
    }
   ],
   "source": [
    "# 16) Python program to set an alaram for different days based on vacation mode\n",
    "\n",
    "print('sun=0, mon=1, tue=2, wed=3, thu=4, fri=5, sat=6')\n",
    "\n",
    "day=input('choose a day: ')\n",
    "vacation= bool(input('enter vacation mode: '))\n",
    "\n",
    "def fun(day,vacation):\n",
    "    if day=='1' or day=='2' or day=='3' or day=='4' or day =='5':\n",
    "        if vacation==0:\n",
    "            print('alaram clock',(day,vacation),'-> 7:00')\n",
    "        else:\n",
    "            print('alaram clock',(day,vacation),'-> 10:00')\n",
    "    elif day=='0' or day=='6':\n",
    "        if vacation==0:\n",
    "            print('alaram clock',(day,vacation),'-> 10:00')\n",
    "        else:\n",
    "            print('alaram clock',(day,vacation),'-> OFF')\n",
    "fun(day, vacation)\n",
    "\n",
    "\n"
   ]
  },
  {
   "cell_type": "code",
   "execution_count": 88,
   "metadata": {},
   "outputs": [
    {
     "name": "stdout",
     "output_type": "stream",
     "text": [
      "Welcome to bdy dictionary. we have bdy details of below:\n",
      "rina\n",
      "priya\n",
      "leo\n",
      "sweeta\n",
      "reesha\n",
      "Who's bdy u want to know? sweeta\n",
      "sweeta birthday is on 16 sep\n"
     ]
    }
   ],
   "source": [
    "#17)Created a birthday dictionary using python coding\n",
    "\n",
    "bdy_dict = {'rina':'25 april','priya':'3 march','leo':'13 sep','sweeta':'16 sep','reesha':'23 dec' }\n",
    "print('Welcome to bdy dictionary. we have bdy details of below:')\n",
    "for i in bdy_dict:\n",
    "    print(i)\n",
    "name = input(\"Who's bdy u want to know? \")\n",
    "for i in bdy_dict:\n",
    "    if i == name:\n",
    "        print('{} birthday is on {}'.format(name,bdy_dict[name]))\n",
    "        break\n",
    "else:\n",
    "    print('sorry!, we dont have the details of {} '.format(name))"
   ]
  },
  {
   "cell_type": "code",
   "execution_count": 95,
   "metadata": {},
   "outputs": [
    {
     "name": "stdout",
     "output_type": "stream",
     "text": [
      "123-45-67+89=100\n",
      "123+4-5+67-89=100\n",
      "12+3+4+5-6-7+89=100\n",
      "12-3-4+5-6+7+89=100\n",
      "1+23-4+5+6+78-9=100\n",
      "1+2+3-4+5+6+78+9=100\n",
      "123+45-67+8-9=100\n",
      "1+2+34-5+67-8+9=100\n",
      "12+3-4+5+67+8+9=100\n",
      "1+23-4+56+7+8+9=100\n",
      "123-4-5-6-7+8-9=100\n"
     ]
    }
   ],
   "source": [
    "#18)Python program to find different combinations which results in sum 100\n",
    "\n",
    "operator = ['+','-']\n",
    "lines = ['1']\n",
    "for i in range(2,10):\n",
    "    for j in range(len(lines)):\n",
    "        for op in operator:\n",
    "             lines.append(lines[j]+op+str(i))\n",
    "        lines[j] += str(i)\n",
    "\n",
    "for i in lines:\n",
    "    if eval(i) == 100:\n",
    "        output = ('{}=100'.format(i))\n",
    "        print(output)\n"
   ]
  },
  {
   "cell_type": "code",
   "execution_count": 98,
   "metadata": {},
   "outputs": [
    {
     "name": "stdout",
     "output_type": "stream",
     "text": [
      "2\n"
     ]
    }
   ],
   "source": [
    "#19) word frequency counter using python\n",
    "#check how many times word 'is' is repeated in the given string\n",
    "\n",
    "string = 'i was thinking statistics is easy but it is not :('\n",
    "count = 0\n",
    "for i in string.split():   #split function will split the string into words and store in a list format\n",
    "    if i == 'is':\n",
    "        count += 1\n",
    "print(count)"
   ]
  },
  {
   "cell_type": "code",
   "execution_count": 106,
   "metadata": {},
   "outputs": [
    {
     "name": "stdout",
     "output_type": "stream",
     "text": [
      "please enter ip address: 255.100.1.0\n",
      "255.100.1.0 is a valid ip address\n"
     ]
    }
   ],
   "source": [
    "#20)Python program to check if given ip address is valid or not?\n",
    "\n",
    "input_ip = input('please enter ip address: ')\n",
    "l = []\n",
    "count = 0\n",
    "for i in input_ip.split('.'):\n",
    "    count += 1\n",
    "    digit = i.isdigit()\n",
    "    if digit == True and int(i) < 256:\n",
    "        l.append(i)\n",
    "    else:\n",
    "        print(input_ip,'is invalid ip address')\n",
    "        break\n",
    "if count == 4:\n",
    "    print(input_ip,'is a valid ip address') \n",
    "else:\n",
    "    print(input_ip,'is invalid ip address')"
   ]
  },
  {
   "cell_type": "code",
   "execution_count": 108,
   "metadata": {},
   "outputs": [
    {
     "name": "stdout",
     "output_type": "stream",
     "text": [
      "enter a string:Hello world!!! 123\n",
      "no. of digits =  3\n",
      "no. of letters = 10\n"
     ]
    }
   ],
   "source": [
    "#21)Python program to find count of digits and numbers in a given string.\n",
    "# Note: space and special characters are not considered.\n",
    "\n",
    "string =input('enter a string:')\n",
    "digits=letters=0                    #initialize variables\n",
    "for i in string:\n",
    "    if i.isdigit():                 #if i is digit, increment digit variable by 1\n",
    "        digits += 1\n",
    "    elif i.isalpha():                #if i is a letter, increment letter variable by 1\n",
    "            letters += 1\n",
    "    else:\n",
    "        pass\n",
    "print(\"no. of digits = \", digits)\n",
    "print(\"no. of letters =\", letters)"
   ]
  },
  {
   "cell_type": "code",
   "execution_count": 113,
   "metadata": {},
   "outputs": [
    {
     "name": "stdout",
     "output_type": "stream",
     "text": [
      "enter transactions: D 5000,W 2000,D 3000,W 1000\n"
     ]
    },
    {
     "data": {
      "text/plain": [
       "5000"
      ]
     },
     "execution_count": 113,
     "metadata": {},
     "output_type": "execute_result"
    }
   ],
   "source": [
    "#22)Python program to calculate bank transaction\n",
    "#enter input as D 400 for deposit and W 400 for withdrawal separated by comma\n",
    "# example input: enter transactions: D 5000,W 2000,D 3000,W 1000\n",
    "\n",
    "def trans_calc(s):\n",
    "    sum1=0\n",
    "    for i in s.split(','):\n",
    "        if i[0] =='D':\n",
    "            sum1 = sum1 + int(i[2:]) \n",
    "        elif i[0] == 'W':\n",
    "            sum1 = sum1 - int(i[2:])\n",
    "        else:\n",
    "            print('wrong input')\n",
    "    return sum1\n",
    "\n",
    "input_transactions = input('enter transactions: ')\n",
    "trans_calc(input_transactions)\n",
    "\n"
   ]
  },
  {
   "cell_type": "code",
   "execution_count": 118,
   "metadata": {},
   "outputs": [
    {
     "name": "stdout",
     "output_type": "stream",
     "text": [
      "244.118.8.44\n"
     ]
    }
   ],
   "source": [
    "#23)Python program to create random ip address\n",
    "\n",
    "import random\n",
    "a=random.randint(0,256)  3 creating a random number between 0 255\n",
    "b=random.randint(0,256)\n",
    "c=random.randint(0,256)\n",
    "d=random.randint(0,256)\n",
    "e=list([str(a),str(b),str(c),str(d)])   \n",
    "print('.'.join(e))  # displacy in a ip address format"
   ]
  },
  {
   "cell_type": "code",
   "execution_count": 120,
   "metadata": {},
   "outputs": [
    {
     "name": "stdout",
     "output_type": "stream",
     "text": [
      "Welcome to the game Roll a dice!!! \n",
      "you got \n",
      "3\n",
      "do you want to roll the dice again? press 1 to continue: 1\n",
      "you got \n",
      "5\n",
      "do you want to roll the dice again? press 1 to continue: 1\n",
      "you got \n",
      "3\n",
      "do you want to roll the dice again? press 1 to continue: 0\n"
     ]
    }
   ],
   "source": [
    "#24) Rolling a dice game using python code\n",
    "\n",
    "import random\n",
    "print('Welcome to the game Roll a dice!!! ')\n",
    "def dice():\n",
    "    game = 1\n",
    "    while game == 1:  #it will continue rolling dice untill user print say no to play again\n",
    "        print('you got ')\n",
    "        print(random.randint(1,7))  # generate a random number between 1 to 6\n",
    "        game = int(input('do you want to roll the dice again? press 1 to continue: '))\n",
    "dice()"
   ]
  },
  {
   "cell_type": "code",
   "execution_count": 121,
   "metadata": {},
   "outputs": [
    {
     "name": "stdout",
     "output_type": "stream",
     "text": [
      "enter input: hacker\n",
      "hceakr\n"
     ]
    }
   ],
   "source": [
    "#25) Python program to segragate values from even and odd location.\n",
    "# example: input : hacker, output:hceakr\n",
    "\n",
    "x =str(input('enter input: ')) \n",
    "y = ''\n",
    "z = ''\n",
    "for i,j in enumerate(x):\n",
    "    if (i%2)==0:\n",
    "        y=y+j\n",
    "    else:\n",
    "        z=z+j\n",
    "output = y+z\n",
    "print(output)"
   ]
  },
  {
   "cell_type": "code",
   "execution_count": 122,
   "metadata": {},
   "outputs": [
    {
     "name": "stdout",
     "output_type": "stream",
     "text": [
      "1\n",
      "2\n",
      "Fizz\n",
      "4\n",
      "Buzz\n",
      "Fizz\n",
      "7\n",
      "8\n",
      "Fizz\n",
      "Buzz\n",
      "11\n",
      "Fizz\n",
      "13\n",
      "14\n",
      "FizzBuzz\n",
      "16\n",
      "17\n",
      "Fizz\n",
      "19\n",
      "Buzz\n",
      "Fizz\n",
      "22\n",
      "23\n",
      "Fizz\n",
      "Buzz\n",
      "26\n",
      "Fizz\n",
      "28\n",
      "29\n",
      "FizzBuzz\n"
     ]
    }
   ],
   "source": [
    "#26) fizzbuzz game using python code\n",
    "# say Fizz for multiples of 3, Buzz for multiples of 5 and FizzBuzz for multiples of both 3 and 5\n",
    "\n",
    "for i in range(1,31):\n",
    "    if (i%3)==0 and (i%5)==0:\n",
    "        print('FizzBuzz')\n",
    "    elif (i%3)==0:\n",
    "        print('Fizz')\n",
    "    elif (i%5)==0:\n",
    "        print('Buzz')\n",
    "    else:\n",
    "        print(i)\n"
   ]
  },
  {
   "cell_type": "code",
   "execution_count": 124,
   "metadata": {},
   "outputs": [],
   "source": [
    "#27) website blocker to block specific sites at particular timeslot\n",
    "# if day is weekday and time is between 9-6, no access to particular sites. \n",
    "\n",
    "import webbrowser as wb\n",
    "import datetime\n",
    "import re\n",
    "\n",
    "url = input('enter url: ')\n",
    "websites = 'www.facebook.com, www.amazon.in, king.com, instagram.com'\n",
    "day = datetime.datetime.today().weekday() #by default 0 is monday and 6 is sunday\n",
    "time = datetime.datetime.now() #24 hours time format\n",
    "if re.search(url, websites) and (day not in (5,7)) and (time.hour >= 9 and time.hour <= 18):\n",
    "    print('Sorry!!! No access to this site from 9 am to 6 pm. :( ')\n",
    "else:\n",
    "    wb.open(url)\n"
   ]
  },
  {
   "cell_type": "code",
   "execution_count": null,
   "metadata": {},
   "outputs": [],
   "source": [
    "\n"
   ]
  },
  {
   "cell_type": "code",
   "execution_count": null,
   "metadata": {},
   "outputs": [],
   "source": []
  }
 ],
 "metadata": {
  "kernelspec": {
   "display_name": "Python 3",
   "language": "python",
   "name": "python3"
  },
  "language_info": {
   "codemirror_mode": {
    "name": "ipython",
    "version": 3
   },
   "file_extension": ".py",
   "mimetype": "text/x-python",
   "name": "python",
   "nbconvert_exporter": "python",
   "pygments_lexer": "ipython3",
   "version": "3.6.5"
  }
 },
 "nbformat": 4,
 "nbformat_minor": 2
}
